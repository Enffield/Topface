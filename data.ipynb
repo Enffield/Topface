{
 "cells": [
  {
   "cell_type": "markdown",
   "id": "b7015dee-f9a3-4400-ba7a-1f9c0c30ce2a",
   "metadata": {},
   "source": [
    "# Импорт библиотек"
   ]
  },
  {
   "cell_type": "code",
   "execution_count": 3,
   "id": "dc5e58d9-e290-4256-a8bf-eb2c2e8d5d45",
   "metadata": {},
   "outputs": [],
   "source": [
    "import pandas as pd \n",
    "import numpy as np\n",
    "import matplotlib.pyplot as plt"
   ]
  },
  {
   "cell_type": "markdown",
   "id": "65951743-5545-4504-8705-07b434650101",
   "metadata": {},
   "source": [
    "# Считываю файл "
   ]
  },
  {
   "cell_type": "code",
   "execution_count": 4,
   "id": "1d680322-8742-4eb6-a6bf-6654981b570f",
   "metadata": {},
   "outputs": [],
   "source": [
    "task = pd.read_excel('data.xlsx')"
   ]
  },
  {
   "cell_type": "code",
   "execution_count": 5,
   "id": "b89207d3-dab6-4148-811c-5af96e34d4b2",
   "metadata": {
    "scrolled": true
   },
   "outputs": [],
   "source": [
    "task['client_id'] = task['client_id'].fillna(0)\n",
    "task['client_id'] = task['client_id'].astype('int64')"
   ]
  },
  {
   "cell_type": "code",
   "execution_count": 64,
   "id": "f7457108-ebd1-4afb-8359-f2394623070f",
   "metadata": {
    "scrolled": true
   },
   "outputs": [],
   "source": [
    "task_may = task[1: 129].set_index('client_id')\n",
    "task_june = task[130: 258].set_index('client_id')\n",
    "task_july = task[259: 369].set_index('client_id')\n",
    "task_augus = task[370: 484].set_index('client_id')\n",
    "task_september = task[485: 594].set_index('client_id')\n",
    "task_october = task[595:].set_index('client_id')"
   ]
  },
  {
   "cell_type": "markdown",
   "id": "15743f5c-2a5d-4bd3-8518-5e94a8654152",
   "metadata": {},
   "source": [
    "# 1) Вычислите общую выручку за июль 2021 по тем сделкам, приход денежных средств которых не просрочен."
   ]
  },
  {
   "cell_type": "code",
   "execution_count": 7,
   "id": "633aee1d-eb34-487a-8fee-15c49c61b9a5",
   "metadata": {},
   "outputs": [],
   "source": [
    "task_july_copy = task_july[task_july['status'] != 'ПРОСРОЧЕНО'] "
   ]
  },
  {
   "cell_type": "code",
   "execution_count": 8,
   "id": "3caa8e18-1824-452a-bdde-48676651281d",
   "metadata": {},
   "outputs": [
    {
     "data": {
      "text/html": [
       "<div>\n",
       "<style scoped>\n",
       "    .dataframe tbody tr th:only-of-type {\n",
       "        vertical-align: middle;\n",
       "    }\n",
       "\n",
       "    .dataframe tbody tr th {\n",
       "        vertical-align: top;\n",
       "    }\n",
       "\n",
       "    .dataframe thead th {\n",
       "        text-align: right;\n",
       "    }\n",
       "</style>\n",
       "<table border=\"1\" class=\"dataframe\">\n",
       "  <thead>\n",
       "    <tr style=\"text-align: right;\">\n",
       "      <th></th>\n",
       "      <th>sum</th>\n",
       "    </tr>\n",
       "    <tr>\n",
       "      <th>status</th>\n",
       "      <th></th>\n",
       "    </tr>\n",
       "  </thead>\n",
       "  <tbody>\n",
       "    <tr>\n",
       "      <th>ОПЛАЧЕНО</th>\n",
       "      <td>859896.47</td>\n",
       "    </tr>\n",
       "  </tbody>\n",
       "</table>\n",
       "</div>"
      ],
      "text/plain": [
       "                sum\n",
       "status             \n",
       "ОПЛАЧЕНО  859896.47"
      ]
     },
     "execution_count": 8,
     "metadata": {},
     "output_type": "execute_result"
    }
   ],
   "source": [
    "pd.pivot_table(task_july_copy, index='status', values='sum', aggfunc='sum')"
   ]
  },
  {
   "cell_type": "markdown",
   "id": "1e9fd6fb-9f0d-42df-8dab-4b6b168b5bdc",
   "metadata": {},
   "source": [
    "# 2) Как изменялась выручка компании за рассматриваемый период? Проиллюстрируйте графиком."
   ]
  },
  {
   "cell_type": "code",
   "execution_count": 72,
   "id": "7e7d6573-c318-43fa-8944-6c31512ba2e3",
   "metadata": {},
   "outputs": [
    {
     "data": {
      "text/plain": [
       "<matplotlib.collections.PathCollection at 0x1acdc516090>"
      ]
     },
     "execution_count": 72,
     "metadata": {},
     "output_type": "execute_result"
    },
    {
     "data": {
      "image/png": "[encoded data removed]",
      "text/plain": [
       "<Figure size 640x480 with 1 Axes>"
      ]
     },
     "metadata": {},
     "output_type": "display_data"
    }
   ],
   "source": [
    "plt.xlabel('client')\n",
    "plt.ylabel('sum')\n",
    "plt.scatter(x=task_july.index, y=task_july['sum'])"
   ]
  },
  {
   "cell_type": "markdown",
   "id": "09b0d591-736d-4262-b399-cc21704664b0",
   "metadata": {},
   "source": [
    "# 3) Кто из менеджеров привлек для компании больше всего денежных средств в сентябре 2021?"
   ]
  },
  {
   "cell_type": "code",
   "execution_count": 10,
   "id": "1a03b0f3-a153-4227-a1e8-2a57448164af",
   "metadata": {},
   "outputs": [],
   "source": [
    "task_september_1 = pd.pivot_table(task_september, index='sale', values='sum', aggfunc='sum')"
   ]
  },
  {
   "cell_type": "code",
   "execution_count": 11,
   "id": "4787706b-3be0-4481-a179-9e6183823350",
   "metadata": {},
   "outputs": [
    {
     "data": {
      "text/html": [
       "<div>\n",
       "<style scoped>\n",
       "    .dataframe tbody tr th:only-of-type {\n",
       "        vertical-align: middle;\n",
       "    }\n",
       "\n",
       "    .dataframe tbody tr th {\n",
       "        vertical-align: top;\n",
       "    }\n",
       "\n",
       "    .dataframe thead th {\n",
       "        text-align: right;\n",
       "    }\n",
       "</style>\n",
       "<table border=\"1\" class=\"dataframe\">\n",
       "  <thead>\n",
       "    <tr style=\"text-align: right;\">\n",
       "      <th></th>\n",
       "      <th>sum</th>\n",
       "    </tr>\n",
       "    <tr>\n",
       "      <th>sale</th>\n",
       "      <th></th>\n",
       "    </tr>\n",
       "  </thead>\n",
       "  <tbody>\n",
       "    <tr>\n",
       "      <th>Смирнов</th>\n",
       "      <td>221525.7</td>\n",
       "    </tr>\n",
       "  </tbody>\n",
       "</table>\n",
       "</div>"
      ],
      "text/plain": [
       "              sum\n",
       "sale             \n",
       "Смирнов  221525.7"
      ]
     },
     "execution_count": 11,
     "metadata": {},
     "output_type": "execute_result"
    }
   ],
   "source": [
    "task_september_1[task_september_1['sum'] == task_september_1['sum'].max()]"
   ]
  },
  {
   "cell_type": "markdown",
   "id": "3dce36d7-7d26-4748-aa74-3d4684b5eaa5",
   "metadata": {},
   "source": [
    "# 4) Какой тип сделок (новая/текущая) был преобладающим в октябре 2021?"
   ]
  },
  {
   "cell_type": "code",
   "execution_count": 12,
   "id": "1e7e34b5-3396-47e7-90cc-272051e08405",
   "metadata": {},
   "outputs": [
    {
     "data": {
      "text/plain": [
       "new/current\n",
       "текущая    99\n",
       "новая      36\n",
       "Name: count, dtype: int64"
      ]
     },
     "execution_count": 12,
     "metadata": {},
     "output_type": "execute_result"
    }
   ],
   "source": [
    "task_october['new/current'].value_counts() # Преобладает 'текущая'"
   ]
  },
  {
   "cell_type": "markdown",
   "id": "550e70f2-3daf-4180-91bc-b12979356ba6",
   "metadata": {},
   "source": [
    "# 5) Сколько оригиналов договора по майским сделкам было получено в июне 2021?"
   ]
  },
  {
   "cell_type": "code",
   "execution_count": 56,
   "id": "0791f46b-2f05-43b7-9903-5f3ab86892d1",
   "metadata": {},
   "outputs": [
    {
     "name": "stdout",
     "output_type": "stream",
     "text": [
      "Оригиналов договора по майским сделкам было получено в июне 2021 года - 106 шт\n"
     ]
    }
   ],
   "source": [
    "a = 0\n",
    "for i in task_july['document']:\n",
    "    if i == 'оригинал':\n",
    "        a += 1\n",
    "print(f'Оригиналов договора по майским сделкам было получено в июне 2021 года - {a} шт')"
   ]
  },
  {
   "cell_type": "markdown",
   "id": "0bf7d738-332d-4bae-9de5-8fe04a1792f4",
   "metadata": {},
   "source": [
    "# Объеденяю все таблицы "
   ]
  },
  {
   "cell_type": "code",
   "execution_count": 14,
   "id": "7fc6a5a5-4c0d-4435-99fe-5afb26abc3e1",
   "metadata": {},
   "outputs": [],
   "source": [
    "all_table = pd.concat([task_may, \n",
    "                       task_june, \n",
    "                       task_july, \n",
    "                       task_augus, \n",
    "                       task_september, \n",
    "                       task_october],\n",
    "                     keys = ['Май 2021',\n",
    "                             'Июнь 2021',\n",
    "                             'Июль 2021',\n",
    "                             'Август 2021',\n",
    "                             'Сентябрь 2021',\n",
    "                             'Октябрь 2021'])"
   ]
  },
  {
   "cell_type": "code",
   "execution_count": 15,
   "id": "1ca55427-edf9-49a4-b6d3-352ba0f495aa",
   "metadata": {},
   "outputs": [],
   "source": [
    "all_table = all_table.drop(columns = ['Unnamed: 5'], axis = 1) # убираю пустой столбец"
   ]
  },
  {
   "cell_type": "markdown",
   "id": "78f2931e-a4a3-47ea-9990-2aadd1228f48",
   "metadata": {
    "editable": true,
    "slideshow": {
     "slide_type": "slide"
    },
    "tags": []
   },
   "source": [
    "#   Задание: За каждую заключенную сделку менеджер получает бонус, который рассчитывается следующим образом.\n",
    "\n",
    "    1) За новые сделки менеджер получает 7 % от суммы, при условии, что статус оплаты «ОПЛАЧЕНО», а также имеется оригинал подписанного договора с клиентом (в рассматриваемом месяце).\n",
    "    2) За текущие сделки менеджер получает 5 % от суммы, если она больше 10 тыс., и 3 % от суммы, если меньше. При этом статус оплаты может быть любым, кроме «ПРОСРОЧЕНО», а также необходимо наличие оригинала подписанного договора с клиентом (в рассматриваемом месяце).\n",
    "\n",
    "    Бонусы по сделкам, оригиналы для которых приходят позже рассматриваемого месяца, считаются остатком на следующий период, который выплачивается по мере прихода оригиналов. Вычислите остаток каждого из менеджеров на 01.07.2021."
   ]
  },
  {
   "cell_type": "code",
   "execution_count": 16,
   "id": "2e450218-75b8-401d-a75b-b38a45a184aa",
   "metadata": {
    "scrolled": true
   },
   "outputs": [],
   "source": [
    "bonus = all_table[1:] # Убрал первую строку, на давала перевести в формат datatime"
   ]
  },
  {
   "cell_type": "code",
   "execution_count": 17,
   "id": "01128b52-8783-4bca-90c4-7d936e3428e0",
   "metadata": {
    "collapsed": true,
    "jupyter": {
     "outputs_hidden": true
    },
    "scrolled": true
   },
   "outputs": [
    {
     "name": "stderr",
     "output_type": "stream",
     "text": [
      "C:\\Users\\Dexp\\AppData\\Local\\Temp\\ipykernel_9536\\3096928664.py:1: SettingWithCopyWarning: \n",
      "A value is trying to be set on a copy of a slice from a DataFrame\n",
      "\n",
      "See the caveats in the documentation: https://pandas.pydata.org/pandas-docs/stable/user_guide/indexing.html#returning-a-view-versus-a-copy\n",
      "  bonus.replace({pd.NaT: None}, inplace=True) # перевожу NaT в None\n",
      "C:\\Users\\Dexp\\AppData\\Local\\Temp\\ipykernel_9536\\3096928664.py:2: SettingWithCopyWarning: \n",
      "A value is trying to be set on a copy of a slice from a DataFrame.\n",
      "Try using .loc[row_indexer,col_indexer] = value instead\n",
      "\n",
      "See the caveats in the documentation: https://pandas.pydata.org/pandas-docs/stable/user_guide/indexing.html#returning-a-view-versus-a-copy\n",
      "  bonus['receiving_date'] = bonus['receiving_date'].fillna(0).astype('datetime64[ns]') # перевожу в формат  datatime\n"
     ]
    }
   ],
   "source": [
    "bonus.replace({pd.NaT: None}, inplace=True) # перевожу NaT в None\n",
    "bonus['receiving_date'] = bonus['receiving_date'].fillna(0).astype('datetime64[ns]') # перевожу в формат  datatime"
   ]
  },
  {
   "cell_type": "code",
   "execution_count": 18,
   "id": "e4dbbc6d-bea3-4ed4-967b-3970591cc673",
   "metadata": {},
   "outputs": [],
   "source": [
    "bonus = bonus[bonus['receiving_date'] < '2021-07-01'] # На месте пустых значений появился 1970 год\n",
    "bonus = bonus[bonus['receiving_date'] > '1970-01-01'] # Как понял нужно работать с имеющимяся датами, исключил пустые значения(знач где 1970)"
   ]
  },
  {
   "cell_type": "code",
   "execution_count": 19,
   "id": "b3fe7102-4f2e-4f63-a74d-a56c813f1ea8",
   "metadata": {},
   "outputs": [],
   "source": [
    "bonus_1 = bonus[bonus['status'] == 'ОПЛАЧЕНО'] # создаю тоблицу где все оплачено \n",
    "bonus_1 = bonus[bonus['document'] == 'оригинал'] # строки где имеется оригиналы \n",
    "bonus_1 = bonus[bonus['new/current'] == 'новая'] # только новые сделки"
   ]
  },
  {
   "cell_type": "code",
   "execution_count": 20,
   "id": "c565f988-38da-4e4e-b1f4-14f4b3234af6",
   "metadata": {},
   "outputs": [],
   "source": [
    "bonus_result_1 = pd.pivot_table(bonus_1, index='sale', values='sum', aggfunc='sum')  # считаем сумму прибыли по 1 пункту из задания "
   ]
  },
  {
   "cell_type": "code",
   "execution_count": 21,
   "id": "b0d9ebe4-8afb-406f-ab9b-cdb0eef811ca",
   "metadata": {
    "scrolled": true
   },
   "outputs": [],
   "source": [
    "bonus_result_1[\"Рассчет за новые сделки\"] = (bonus_result_1['sum'] * 0.07) # Рассчет за новые сделки"
   ]
  },
  {
   "cell_type": "code",
   "execution_count": 22,
   "id": "02c3e556-e92c-4a2c-84b7-4e254b677fb4",
   "metadata": {},
   "outputs": [],
   "source": [
    "# Далее высчитываю значения из пункта 2 для рассчета бонуса '>' и '<' 10 000р \n",
    "bonus_2 = bonus[bonus['new/current'] == 'текущая'] # Таблица с текущими сделками \n",
    "bonus_2 = bonus_2[bonus_2['status'] != 'ПРОСРОЧЕНО'] # без просрочек \n",
    "bonus_2 = bonus_2[bonus_2['document'] == 'оригинал'] # с оригинальными документаими"
   ]
  },
  {
   "cell_type": "code",
   "execution_count": 23,
   "id": "cde64199-67a7-49f1-9f18-333f68b9e1bc",
   "metadata": {},
   "outputs": [],
   "source": [
    "bonus_deal_1 = bonus_2[bonus_2['sum'] > 10000] # Сделки более 10 000 \n",
    "bonus_deal_2 = bonus_2[bonus_2['sum'] <= 10000] # Сделки менее 10 000"
   ]
  },
  {
   "cell_type": "code",
   "execution_count": 24,
   "id": "12749e27-57e1-4f8c-a355-619d312c9b75",
   "metadata": {},
   "outputs": [],
   "source": [
    "bonus_result_2 = pd.pivot_table(bonus_deal_1, index='sale', values='sum', aggfunc='sum') # Cводная таблица где сделки более 10 000\n",
    "bonus_result_3 = pd.pivot_table(bonus_deal_2, index='sale', values='sum', aggfunc='sum') # Cводная таблица где сделки менее 10 000"
   ]
  },
  {
   "cell_type": "code",
   "execution_count": 26,
   "id": "0a855092-2ae4-4de4-93bb-a0c98c472752",
   "metadata": {},
   "outputs": [],
   "source": [
    "bonus_result_1[\"Рассчет за cделки < 10 000\"] = (bonus_result_2['sum'] * 0.03) # Высчитываем по формуле менее 10 000\n",
    "bonus_result_1[\"Рассчет за cделки > 10 000\"] = (bonus_result_3['sum'] * 0.05) # Высчитываем по формуле более 10 000"
   ]
  },
  {
   "cell_type": "code",
   "execution_count": 27,
   "id": "9e0de53c-58bb-427e-b18c-61785a5cfc76",
   "metadata": {},
   "outputs": [],
   "source": [
    "bonus_result_1 = bonus_result_1.fillna(0) # заполняю пустые значения "
   ]
  },
  {
   "cell_type": "code",
   "execution_count": 28,
   "id": "2ca7e345-a039-40b9-827f-8f6a4522af5c",
   "metadata": {},
   "outputs": [],
   "source": [
    "# Считаем итоговый результат \n",
    "bonus_result_1['Итого'] = (\n",
    "                           bonus_result_1[\"Рассчет за новые сделки\"] +\n",
    "                           bonus_result_1[\"Рассчет за cделки < 10 000\"] + \n",
    "                           bonus_result_1[\"Рассчет за cделки > 10 000\"]\n",
    "                            )  "
   ]
  },
  {
   "cell_type": "code",
   "execution_count": 29,
   "id": "5c1cba4a-30fb-4d8b-b651-f6941d74c51a",
   "metadata": {
    "collapsed": true,
    "jupyter": {
     "outputs_hidden": true
    },
    "scrolled": true
   },
   "outputs": [
    {
     "data": {
      "text/html": [
       "<div>\n",
       "<style scoped>\n",
       "    .dataframe tbody tr th:only-of-type {\n",
       "        vertical-align: middle;\n",
       "    }\n",
       "\n",
       "    .dataframe tbody tr th {\n",
       "        vertical-align: top;\n",
       "    }\n",
       "\n",
       "    .dataframe thead th {\n",
       "        text-align: right;\n",
       "    }\n",
       "</style>\n",
       "<table border=\"1\" class=\"dataframe\">\n",
       "  <thead>\n",
       "    <tr style=\"text-align: right;\">\n",
       "      <th></th>\n",
       "      <th>Рассчет за новые сделки</th>\n",
       "      <th>Рассчет за cделки &lt; 10 000</th>\n",
       "      <th>Рассчет за cделки &gt; 10 000</th>\n",
       "      <th>Итого</th>\n",
       "    </tr>\n",
       "    <tr>\n",
       "      <th>sale</th>\n",
       "      <th></th>\n",
       "      <th></th>\n",
       "      <th></th>\n",
       "      <th></th>\n",
       "    </tr>\n",
       "  </thead>\n",
       "  <tbody>\n",
       "    <tr>\n",
       "      <th>Андреев</th>\n",
       "      <td>1144.3390</td>\n",
       "      <td>1682.568</td>\n",
       "      <td>1415.9745</td>\n",
       "      <td>4242.8815</td>\n",
       "    </tr>\n",
       "    <tr>\n",
       "      <th>Васильев</th>\n",
       "      <td>35.2590</td>\n",
       "      <td>0.000</td>\n",
       "      <td>506.6200</td>\n",
       "      <td>541.8790</td>\n",
       "    </tr>\n",
       "    <tr>\n",
       "      <th>Кузнецова</th>\n",
       "      <td>424.1321</td>\n",
       "      <td>0.000</td>\n",
       "      <td>3634.2325</td>\n",
       "      <td>4058.3646</td>\n",
       "    </tr>\n",
       "    <tr>\n",
       "      <th>Петрова</th>\n",
       "      <td>770.2590</td>\n",
       "      <td>2246.400</td>\n",
       "      <td>4190.9050</td>\n",
       "      <td>7207.5640</td>\n",
       "    </tr>\n",
       "    <tr>\n",
       "      <th>Смирнов</th>\n",
       "      <td>696.4090</td>\n",
       "      <td>2033.688</td>\n",
       "      <td>1148.7400</td>\n",
       "      <td>3878.8370</td>\n",
       "    </tr>\n",
       "  </tbody>\n",
       "</table>\n",
       "</div>"
      ],
      "text/plain": [
       "           Рассчет за новые сделки  Рассчет за cделки < 10 000  \\\n",
       "sale                                                             \n",
       "Андреев                  1144.3390                    1682.568   \n",
       "Васильев                   35.2590                       0.000   \n",
       "Кузнецова                 424.1321                       0.000   \n",
       "Петрова                   770.2590                    2246.400   \n",
       "Смирнов                   696.4090                    2033.688   \n",
       "\n",
       "           Рассчет за cделки > 10 000      Итого  \n",
       "sale                                              \n",
       "Андреев                     1415.9745  4242.8815  \n",
       "Васильев                     506.6200   541.8790  \n",
       "Кузнецова                   3634.2325  4058.3646  \n",
       "Петрова                     4190.9050  7207.5640  \n",
       "Смирнов                     1148.7400  3878.8370  "
      ]
     },
     "execution_count": 29,
     "metadata": {},
     "output_type": "execute_result"
    }
   ],
   "source": [
    "bonus_result_1 = bonus_result_1.drop(columns = ['sum'], axis = 1)\n",
    "bonus_result_1 # Получаем остаток каждого из менеджеров на 01.07.2021"
   ]
  }
 ],
 "metadata": {
  "kernelspec": {
   "display_name": "Python 3 (ipykernel)",
   "language": "python",
   "name": "python3"
  },
  "language_info": {
   "codemirror_mode": {
    "name": "ipython",
    "version": 3
   },
   "file_extension": ".py",
   "mimetype": "text/x-python",
   "name": "python",
   "nbconvert_exporter": "python",
   "pygments_lexer": "ipython3",
   "version": "3.12.2"
  },
  "toc": {
   "base_numbering": 0
  }
 },
 "nbformat": 4,
 "nbformat_minor": 5
}
